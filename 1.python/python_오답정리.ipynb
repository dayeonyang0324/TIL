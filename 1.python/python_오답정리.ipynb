{
 "cells": [
  {
   "cell_type": "markdown",
   "id": "indie-microphone",
   "metadata": {},
   "source": [
    "### 오답노트"
   ]
  },
  {
   "cell_type": "markdown",
   "id": "damaged-sigma",
   "metadata": {},
   "source": [
    "<hr>"
   ]
  },
  {
   "cell_type": "markdown",
   "id": "cellular-wedding",
   "metadata": {},
   "source": [
    "#### 리스트 안의 딕셔너리에서 해당하는 key의 value값 구하기\n",
    "\n",
    "- 리스트의 i는 각각의 딕셔너리에 해당하고 i의 `index` 를 구하면 된다."
   ]
  },
  {
   "cell_type": "code",
   "execution_count": null,
   "id": "immediate-ceiling",
   "metadata": {},
   "outputs": [],
   "source": [
    "def dict_list_sum(ages):\n",
    "    result = 0\n",
    "    for i in ages:\n",
    "        result += i['age']\n",
    "        return result \n",
    "\n",
    "    \n",
    "dict_list_sum([{'name':'kim', 'age':12},{'name':'lee', 'age':4}])\n",
    "\n",
    "# [{'name':'kim', 'age':12},{'name':'lee', 'age':4}] 이것이 list\n",
    "# {'name':'kim', 'age':12} 이거랑 {'name':'lee', 'age':4} 이거는 i 값임.\n",
    "#  리스트 안의 i, 즉 {}에 있는 값에 대해서 i의 index인 age를 더하는 것임."
   ]
  },
  {
   "cell_type": "code",
   "execution_count": null,
   "id": "major-technique",
   "metadata": {},
   "outputs": [],
   "source": [
    "#다른 방법으로는 list의 key값을 가져올 수 있다\n",
    "age_list = ages['age']\n",
    "age_list = ages.get('age')"
   ]
  },
  {
   "cell_type": "markdown",
   "id": "filled-detail",
   "metadata": {},
   "source": [
    "- 딕셔너리에서 조건에 맞는 키와 벨류만 그대로 뽑아오기"
   ]
  },
  {
   "cell_type": "code",
   "execution_count": null,
   "id": "pregnant-apple",
   "metadata": {},
   "outputs": [],
   "source": [
    "dusts = {'서울': 72, '대전': 82, '구미': 29, '광주': 45, '중국': 200}\n",
    "\n",
    "{k:v for k, v in dusts.items() if v > 80}\n",
    "#결과 : {'대전': 82, '중국': 200}"
   ]
  },
  {
   "cell_type": "markdown",
   "id": "whole-capture",
   "metadata": {},
   "source": [
    "- 리스트 안의 리스트를 뽑아서 딕셔너리 만들기"
   ]
  },
  {
   "cell_type": "code",
   "execution_count": null,
   "id": "irish-keeping",
   "metadata": {},
   "outputs": [],
   "source": [
    "temperatures = [ [9, 3], [11, -3], [7, -3] ]\n",
    "\n",
    "def turn(temperatures):\n",
    "    maximum = []\n",
    "    minimum = []\n",
    "    result = {}\n",
    "    for temperature in temperatures:\n",
    "        maximum += [temperature[0]]\n",
    "        minimum += [temperature[1]]\n",
    "    result['maxi'] = maximum\n",
    "    result['mini'] = minimum\n",
    "    return result\n",
    "    "
   ]
  },
  {
   "cell_type": "markdown",
   "id": "essential-financing",
   "metadata": {},
   "source": [
    "<hr>"
   ]
  },
  {
   "cell_type": "markdown",
   "id": "parental-january",
   "metadata": {},
   "source": [
    "#### 수에서는 Total = 0 이지만 문자에서 Total = ''로 시작하면 된다!!\n",
    "\n",
    "- 그 밖에도 `{}, []`에 넣고 싶으면 `total = {}, []` 로 시작한다."
   ]
  },
  {
   "cell_type": "code",
   "execution_count": null,
   "id": "satisfied-smooth",
   "metadata": {},
   "outputs": [],
   "source": [
    "def get_secret_word(words):\n",
    "    total = ''\n",
    "    for word in words:\n",
    "        total += chr(word)\n",
    "    return total\n",
    "\n",
    "\n",
    "get_secret_word([83, 115, 65, 102, 89])"
   ]
  },
  {
   "cell_type": "markdown",
   "id": "military-blink",
   "metadata": {},
   "source": [
    "<hr>"
   ]
  },
  {
   "cell_type": "markdown",
   "id": "mathematical-conducting",
   "metadata": {},
   "source": [
    "#### 문자에서 한개의 알파벳만 제외하기 = 조건의 알파벳만 빼고 나머지 더하기"
   ]
  },
  {
   "cell_type": "code",
   "execution_count": null,
   "id": "restricted-muslim",
   "metadata": {},
   "outputs": [],
   "source": [
    "word = input()\n",
    "\n",
    "# apple 입력하면 a 만 빼고 pple가 출력되게 하는 for 문\n",
    "result = ''\n",
    "\n",
    "for char in word:\n",
    "    if char != 'a':\n",
    "        result += char\n",
    "        \n",
    "print(result)"
   ]
  },
  {
   "cell_type": "markdown",
   "id": "developed-grant",
   "metadata": {},
   "source": [
    "<hr>"
   ]
  },
  {
   "cell_type": "markdown",
   "id": "retired-heading",
   "metadata": {},
   "source": [
    "#### 문자 순서 거꾸로 뒤집기"
   ]
  },
  {
   "cell_type": "code",
   "execution_count": null,
   "id": "neither-finnish",
   "metadata": {},
   "outputs": [],
   "source": [
    "word = input()\n",
    "\n",
    "#입력한 값을 거꾸로 뒤집기 for문\n",
    "result = ''\n",
    "for i in word:\n",
    "    result = i + result\n",
    "print(result)"
   ]
  },
  {
   "cell_type": "markdown",
   "id": "generous-ministry",
   "metadata": {},
   "source": [
    "<hr>"
   ]
  },
  {
   "cell_type": "markdown",
   "id": "internal-gnome",
   "metadata": {},
   "source": [
    "#### 단어 앞뒤로 하나씩 비교하기\n",
    "\n",
    "- 앞뒤 `[1:-1]`로 비교하기"
   ]
  },
  {
   "cell_type": "code",
   "execution_count": null,
   "id": "alpha-independence",
   "metadata": {},
   "outputs": [],
   "source": [
    "#while 문으로 비교하기\n",
    "def is_pal_while(word):\n",
    "    while len(word) > 1:\n",
    "        if word[0] == word[-1]:\n",
    "            word = word[1:-1]\n",
    "        else:\n",
    "            return False\n",
    "    return True\n",
    "    \n",
    "\n",
    "#재귀로 비교하기\n",
    "def is_pal_while(word):\n",
    "    if len(word) <= 1:\n",
    "        return True\n",
    "    else:\n",
    "        if word[0] == word[-1]:\n",
    "            return is_pal_while(word[1:-1])\n",
    "        else: \n",
    "            return False"
   ]
  },
  {
   "cell_type": "markdown",
   "id": "upper-kelly",
   "metadata": {},
   "source": [
    "<hr>"
   ]
  },
  {
   "cell_type": "markdown",
   "id": "supported-checkout",
   "metadata": {},
   "source": [
    "#### python 문제"
   ]
  },
  {
   "cell_type": "markdown",
   "id": "serious-jesus",
   "metadata": {},
   "source": [
    "- 모든 요소가 참이거나 비어있으면 True를 반환하는 함수 만들기(practice1 #2)"
   ]
  },
  {
   "cell_type": "code",
   "execution_count": null,
   "id": "micro-infection",
   "metadata": {},
   "outputs": [],
   "source": [
    "def my_all(numbers):\n",
    "    result = True\n",
    "    #리스트의 요소들을 순회\n",
    "    for number in numbers:\n",
    "        if not number:\n",
    "            return False\n",
    "    return True"
   ]
  },
  {
   "cell_type": "code",
   "execution_count": null,
   "id": "adult-robin",
   "metadata": {},
   "outputs": [],
   "source": [
    "print(my_all([])) #True\n",
    "print(my_all([1, 2, 5, '6'])) #True\n",
    "print(my_all([[], 2, 5, '6'])) #False"
   ]
  },
  {
   "cell_type": "markdown",
   "id": "awful-nevada",
   "metadata": {},
   "source": [
    "<hr>"
   ]
  },
  {
   "cell_type": "markdown",
   "id": "embedded-nature",
   "metadata": {},
   "source": [
    "- 2차원 리스트를 반복하여 숫자의 합 반환하는 함수(exercise3 #1)"
   ]
  },
  {
   "cell_type": "code",
   "execution_count": null,
   "id": "attempted-questionnaire",
   "metadata": {},
   "outputs": [],
   "source": [
    "#index로 접근해서 풀기 - 행렬성분이라 생각하고 계산하기!\n",
    "def sum_list_index(numbers):\n",
    "    total = 0\n",
    "    #range(0, 3) = 0, 1, 2\n",
    "    #모든 배열 길이만큼 반복\n",
    "    for i in range(len(numbers)):\n",
    "        #내부 배열 길이만큼 반복\n",
    "        for j in range(len(numbers[i])):\n",
    "            #전체 배열 돌린후 내부 배열 돌리기\n",
    "            total += numbers[i][j]\n",
    "    return total"
   ]
  },
  {
   "cell_type": "code",
   "execution_count": null,
   "id": "likely-source",
   "metadata": {},
   "outputs": [],
   "source": [
    "#while문으로 풀기\n",
    "def sum_list(numbers):\n",
    "    i = 0\n",
    "    result = 0\n",
    "    while i < len(numbers):\n",
    "        j = 0\n",
    "        while j < len(numbers[i]):\n",
    "            result += numbers[i][j]\n",
    "            j += 1\n",
    "        i += 1\n",
    "    return result"
   ]
  },
  {
   "cell_type": "code",
   "execution_count": null,
   "id": "everyday-clause",
   "metadata": {},
   "outputs": [],
   "source": [
    "print(sum_list_index([[1, 4], [10, 5], [20, 30]]))"
   ]
  },
  {
   "cell_type": "markdown",
   "id": "considered-resolution",
   "metadata": {},
   "source": [
    "<hr>"
   ]
  },
  {
   "cell_type": "markdown",
   "id": "square-beaver",
   "metadata": {},
   "source": [
    "- 주어진 문자열(text)에서 제시된 알파벳(alphabet)의 등장 위치를 리스트로 반환하는 함수. 해당 알파벳이 등장하지 않으면 -1 반환 (exercise4 #1)"
   ]
  },
  {
   "cell_type": "code",
   "execution_count": null,
   "id": "dutch-blond",
   "metadata": {},
   "outputs": [],
   "source": [
    "def my_find(text, alphabet):\n",
    "    result = []\n",
    "    for idx, word in enumerate(text):\n",
    "        if word == alphabet:\n",
    "            result.append(idx)\n",
    "    return result if result else -1 "
   ]
  },
  {
   "cell_type": "code",
   "execution_count": null,
   "id": "pregnant-polymer",
   "metadata": {},
   "outputs": [],
   "source": [
    "print(my_find('apple', 'p')) #[1,2]\n",
    "print(my_find('a', 'p')) #-1"
   ]
  },
  {
   "cell_type": "markdown",
   "id": "after-intensity",
   "metadata": {},
   "source": [
    "<hr>"
   ]
  },
  {
   "cell_type": "markdown",
   "id": "allied-cattle",
   "metadata": {},
   "source": [
    "- 주어진 학생 n과 출석한 학생명부 students 문자열이 있다. 결석한 학생들로 구성된 문자열을 반환 (exercise4 #2)"
   ]
  },
  {
   "cell_type": "code",
   "execution_count": null,
   "id": "upper-deadline",
   "metadata": {},
   "outputs": [],
   "source": [
    "def check(n, students):\n",
    "    students = list(map(int, students.split()))\n",
    "    result = []\n",
    "    for i in range(1, n+1):\n",
    "        if i not in students:\n",
    "            result.append(str(i))\n",
    "    return ' '.join(result)"
   ]
  },
  {
   "cell_type": "code",
   "execution_count": null,
   "id": "resident-agency",
   "metadata": {},
   "outputs": [],
   "source": [
    "print(check(7, '1 3 5')) # 2 4 6 7"
   ]
  },
  {
   "cell_type": "markdown",
   "id": "unsigned-lindsay",
   "metadata": {},
   "source": [
    "<hr>"
   ]
  },
  {
   "cell_type": "markdown",
   "id": "thousand-ethiopia",
   "metadata": {},
   "source": [
    "- for문 2번 사용해서 1 / 12 / 123 / 1234 와 같은 식으로 계단 만들기 = 줄 세우기 안에 또 다른 줄세우기 (workshop2 #3)"
   ]
  },
  {
   "cell_type": "code",
   "execution_count": null,
   "id": "legitimate-opinion",
   "metadata": {},
   "outputs": [],
   "source": [
    "for i in range(1, number + 1):\n",
    "    for j in range(1, i+1):\n",
    "        print(j, end='')\n",
    "    print()"
   ]
  },
  {
   "cell_type": "markdown",
   "id": "federal-hawaii",
   "metadata": {},
   "source": [
    "<hr>"
   ]
  },
  {
   "cell_type": "markdown",
   "id": "conceptual-tucson",
   "metadata": {},
   "source": [
    "- 혈액형 분류하기 : 리스트를 전달받아 키는 혈액형의 종류, value는 사람 수인 딕셔너리로 반환하는 함수 만들기 (workshop5 #2)"
   ]
  },
  {
   "cell_type": "code",
   "execution_count": null,
   "id": "documentary-fifty",
   "metadata": {},
   "outputs": [],
   "source": [
    "def count_blood(kinds):\n",
    "    result = {}\n",
    "    for kind in kinds:\n",
    "        if kind in result.keys():\n",
    "            result[kind] += 1\n",
    "        else:\n",
    "            result[kind] = 1\n",
    "    return result             "
   ]
  },
  {
   "cell_type": "code",
   "execution_count": null,
   "id": "tight-cargo",
   "metadata": {},
   "outputs": [],
   "source": [
    "count_blood([\n",
    "     'A', 'B', 'A', 'O', 'AB', 'AB',\n",
    "     'O', 'A', 'B', 'O', 'B', 'AB',\n",
    " ])"
   ]
  },
  {
   "cell_type": "markdown",
   "id": "canadian-rolling",
   "metadata": {},
   "source": [
    "<hr>"
   ]
  },
  {
   "cell_type": "markdown",
   "id": "celtic-flashing",
   "metadata": {},
   "source": [
    "- 중복되는 문자를 리스트로 반환하기 (workshop6 #1)"
   ]
  },
  {
   "cell_type": "code",
   "execution_count": null,
   "id": "double-shift",
   "metadata": {},
   "outputs": [],
   "source": [
    "def duplicated_letters(words):\n",
    "    result = []\n",
    "    for word in words:\n",
    "        if words.count(word) >= 2:\n",
    "            if word not in result:\n",
    "                result += word            \n",
    "    return result    "
   ]
  },
  {
   "cell_type": "code",
   "execution_count": null,
   "id": "ancient-bottom",
   "metadata": {},
   "outputs": [],
   "source": [
    "duplicated_letters('apple') #['p']\n",
    "duplicated_letters('banana') #['a', 'n']"
   ]
  },
  {
   "cell_type": "markdown",
   "id": "resistant-moses",
   "metadata": {},
   "source": [
    "<hr>"
   ]
  },
  {
   "cell_type": "markdown",
   "id": "emerging-roller",
   "metadata": {},
   "source": [
    "- 리스트에 나타나는 연속적인 숫자에서 하나만 남기고 삭제하는 함수 (workshop6 #3)"
   ]
  },
  {
   "cell_type": "code",
   "execution_count": null,
   "id": "commercial-aaron",
   "metadata": {},
   "outputs": [],
   "source": [
    "def lonely(numbers):\n",
    "    total = [numbers[0]]\n",
    "    for number in numbers:\n",
    "        if total[-1] != number:\n",
    "            total.append(number)\n",
    "    return total"
   ]
  },
  {
   "cell_type": "code",
   "execution_count": null,
   "id": "political-zambia",
   "metadata": {},
   "outputs": [],
   "source": [
    "lonely([1, 1, 3, 3, 0, 1, 1]) #[1, 3, 0, 1]\n",
    "lonely([4, 4, 4, 3, 3]) #[4, 3]"
   ]
  },
  {
   "cell_type": "markdown",
   "id": "extreme-favor",
   "metadata": {},
   "source": [
    "<hr>"
   ]
  },
  {
   "cell_type": "markdown",
   "id": "taken-judge",
   "metadata": {},
   "source": [
    "- 중복되지 않은 숫자들의 리스트 요소들의 합(exercise5 #2)"
   ]
  },
  {
   "cell_type": "code",
   "execution_count": null,
   "id": "sought-merit",
   "metadata": {},
   "outputs": [],
   "source": [
    "def sum_of_repeat_number(numbers):\n",
    "    for number in numbers:\n",
    "        #number의 개수가 2이상이면 삭제\n",
    "        if number == number:\n",
    "            count_num = numbers.count(number)\n",
    "            for i in range(count_num):\n",
    "                numbers.remove(number)\n",
    "        return sum(numbers)"
   ]
  },
  {
   "cell_type": "code",
   "execution_count": null,
   "id": "amended-conviction",
   "metadata": {},
   "outputs": [],
   "source": [
    "print(sum_of_repeat_number([4, 4, 7, 8, 10])) #25"
   ]
  }
 ],
 "metadata": {
  "kernelspec": {
   "display_name": "Python 3",
   "language": "python",
   "name": "python3"
  },
  "language_info": {
   "codemirror_mode": {
    "name": "ipython",
    "version": 3
   },
   "file_extension": ".py",
   "mimetype": "text/x-python",
   "name": "python",
   "nbconvert_exporter": "python",
   "pygments_lexer": "ipython3",
   "version": "3.8.7"
  },
  "toc": {
   "base_numbering": 1,
   "nav_menu": {},
   "number_sections": true,
   "sideBar": true,
   "skip_h1_title": false,
   "title_cell": "Table of Contents",
   "title_sidebar": "Contents",
   "toc_cell": false,
   "toc_position": {},
   "toc_section_display": true,
   "toc_window_display": false
  }
 },
 "nbformat": 4,
 "nbformat_minor": 5
}
